{
 "cells": [
  {
   "cell_type": "markdown",
   "metadata": {},
   "source": [
    "Atividade I.1 - Dados e tabelas"
   ]
  },
  {
   "cell_type": "markdown",
   "metadata": {},
   "source": [
    "Alunos: Wenderson Dhomini // Mariane Mireli"
   ]
  },
  {
   "cell_type": "code",
   "execution_count": 2,
   "metadata": {},
   "outputs": [],
   "source": [
    "import pandas as pd"
   ]
  },
  {
   "cell_type": "code",
   "execution_count": 3,
   "metadata": {},
   "outputs": [
    {
     "data": {
      "text/html": [
       "<div>\n",
       "<style scoped>\n",
       "    .dataframe tbody tr th:only-of-type {\n",
       "        vertical-align: middle;\n",
       "    }\n",
       "\n",
       "    .dataframe tbody tr th {\n",
       "        vertical-align: top;\n",
       "    }\n",
       "\n",
       "    .dataframe thead th {\n",
       "        text-align: right;\n",
       "    }\n",
       "</style>\n",
       "<table border=\"1\" class=\"dataframe\">\n",
       "  <thead>\n",
       "    <tr style=\"text-align: right;\">\n",
       "      <th></th>\n",
       "      <th>Unnamed: 0</th>\n",
       "      <th>Artificial object</th>\n",
       "      <th>Country</th>\n",
       "      <th>Year</th>\n",
       "      <th>Mass (lb)</th>\n",
       "      <th>Mass (kg)</th>\n",
       "      <th>Status</th>\n",
       "      <th>Location</th>\n",
       "    </tr>\n",
       "  </thead>\n",
       "  <tbody>\n",
       "    <tr>\n",
       "      <th>0</th>\n",
       "      <td>0</td>\n",
       "      <td>Luna 2</td>\n",
       "      <td>Soviet Union</td>\n",
       "      <td>1959</td>\n",
       "      <td>860</td>\n",
       "      <td>390</td>\n",
       "      <td>Intentionally crashed</td>\n",
       "      <td>29°06′N 0°00′E﻿ / ﻿29.1°N 0°E</td>\n",
       "    </tr>\n",
       "    <tr>\n",
       "      <th>1</th>\n",
       "      <td>1</td>\n",
       "      <td>Luna 2 Third stage of Vostok rocket</td>\n",
       "      <td>Soviet Union</td>\n",
       "      <td>1959</td>\n",
       "      <td>20100</td>\n",
       "      <td>9100</td>\n",
       "      <td>Intentionally crashed</td>\n",
       "      <td>29°06′N 0°00′E﻿ / ﻿29.1°N 0°E</td>\n",
       "    </tr>\n",
       "    <tr>\n",
       "      <th>2</th>\n",
       "      <td>2</td>\n",
       "      <td>Ranger 4</td>\n",
       "      <td>United States</td>\n",
       "      <td>1962</td>\n",
       "      <td>730</td>\n",
       "      <td>331</td>\n",
       "      <td>Intentionally crashed</td>\n",
       "      <td>15°30′S 130°42′W﻿ / ﻿15.5°S 130.7°W</td>\n",
       "    </tr>\n",
       "    <tr>\n",
       "      <th>3</th>\n",
       "      <td>3</td>\n",
       "      <td>Ranger 6</td>\n",
       "      <td>United States</td>\n",
       "      <td>1964</td>\n",
       "      <td>840</td>\n",
       "      <td>381</td>\n",
       "      <td>Intentionally crashed</td>\n",
       "      <td>9°21′29″N 21°28′48″E﻿ / ﻿9.358°N 21.480°E</td>\n",
       "    </tr>\n",
       "    <tr>\n",
       "      <th>4</th>\n",
       "      <td>4</td>\n",
       "      <td>Ranger 7</td>\n",
       "      <td>United States</td>\n",
       "      <td>1964</td>\n",
       "      <td>805</td>\n",
       "      <td>365</td>\n",
       "      <td>Intentionally crashed</td>\n",
       "      <td>10°38′S 20°36′W﻿ / ﻿10.63°S 20.60°W</td>\n",
       "    </tr>\n",
       "    <tr>\n",
       "      <th>...</th>\n",
       "      <td>...</td>\n",
       "      <td>...</td>\n",
       "      <td>...</td>\n",
       "      <td>...</td>\n",
       "      <td>...</td>\n",
       "      <td>...</td>\n",
       "      <td>...</td>\n",
       "      <td>...</td>\n",
       "    </tr>\n",
       "    <tr>\n",
       "      <th>84</th>\n",
       "      <td>84</td>\n",
       "      <td>Hakuto-R Mission 1</td>\n",
       "      <td>Japan</td>\n",
       "      <td>2023</td>\n",
       "      <td>750</td>\n",
       "      <td>340</td>\n",
       "      <td>Crashed</td>\n",
       "      <td>47°34′52″N 44°05′38″E﻿ / ﻿47.581°N 44.094°E</td>\n",
       "    </tr>\n",
       "    <tr>\n",
       "      <th>85</th>\n",
       "      <td>85</td>\n",
       "      <td>Emirates Lunar Mission</td>\n",
       "      <td>United Arab Emirates</td>\n",
       "      <td>2023</td>\n",
       "      <td>750</td>\n",
       "      <td>340</td>\n",
       "      <td>Crashed</td>\n",
       "      <td>47°34′52″N 44°05′38″E﻿ / ﻿47.581°N 44.094°E</td>\n",
       "    </tr>\n",
       "    <tr>\n",
       "      <th>86</th>\n",
       "      <td>86</td>\n",
       "      <td>Luna 25</td>\n",
       "      <td>Russia</td>\n",
       "      <td>2023</td>\n",
       "      <td>3860</td>\n",
       "      <td>1750</td>\n",
       "      <td>Crashed</td>\n",
       "      <td>NaN</td>\n",
       "    </tr>\n",
       "    <tr>\n",
       "      <th>87</th>\n",
       "      <td>87</td>\n",
       "      <td>Chandrayaan-3 Vikram lander Pragyan rover</td>\n",
       "      <td>India</td>\n",
       "      <td>2023</td>\n",
       "      <td>3863</td>\n",
       "      <td>1752</td>\n",
       "      <td>Operational</td>\n",
       "      <td>69°22′01″S 32°20′53″E﻿ / ﻿69.367°S 32.348°E</td>\n",
       "    </tr>\n",
       "    <tr>\n",
       "      <th>88</th>\n",
       "      <td>88</td>\n",
       "      <td>Total estimated dry mass</td>\n",
       "      <td>Total estimated dry mass</td>\n",
       "      <td>Total estimated dry mass</td>\n",
       "      <td>453791</td>\n",
       "      <td>205868</td>\n",
       "      <td>NaN</td>\n",
       "      <td>NaN</td>\n",
       "    </tr>\n",
       "  </tbody>\n",
       "</table>\n",
       "<p>89 rows × 8 columns</p>\n",
       "</div>"
      ],
      "text/plain": [
       "    Unnamed: 0                          Artificial object  \\\n",
       "0            0                                     Luna 2   \n",
       "1            1        Luna 2 Third stage of Vostok rocket   \n",
       "2            2                                   Ranger 4   \n",
       "3            3                                   Ranger 6   \n",
       "4            4                                   Ranger 7   \n",
       "..         ...                                        ...   \n",
       "84          84                         Hakuto-R Mission 1   \n",
       "85          85                     Emirates Lunar Mission   \n",
       "86          86                                    Luna 25   \n",
       "87          87  Chandrayaan-3 Vikram lander Pragyan rover   \n",
       "88          88                   Total estimated dry mass   \n",
       "\n",
       "                     Country                      Year Mass (lb) Mass (kg)  \\\n",
       "0               Soviet Union                      1959       860       390   \n",
       "1               Soviet Union                      1959     20100      9100   \n",
       "2              United States                      1962       730       331   \n",
       "3              United States                      1964       840       381   \n",
       "4              United States                      1964       805       365   \n",
       "..                       ...                       ...       ...       ...   \n",
       "84                     Japan                      2023       750       340   \n",
       "85      United Arab Emirates                      2023       750       340   \n",
       "86                    Russia                      2023      3860      1750   \n",
       "87                     India                      2023      3863      1752   \n",
       "88  Total estimated dry mass  Total estimated dry mass    453791    205868   \n",
       "\n",
       "                   Status                                     Location  \n",
       "0   Intentionally crashed                29°06′N 0°00′E﻿ / ﻿29.1°N 0°E  \n",
       "1   Intentionally crashed                29°06′N 0°00′E﻿ / ﻿29.1°N 0°E  \n",
       "2   Intentionally crashed          15°30′S 130°42′W﻿ / ﻿15.5°S 130.7°W  \n",
       "3   Intentionally crashed    9°21′29″N 21°28′48″E﻿ / ﻿9.358°N 21.480°E  \n",
       "4   Intentionally crashed          10°38′S 20°36′W﻿ / ﻿10.63°S 20.60°W  \n",
       "..                    ...                                          ...  \n",
       "84                Crashed  47°34′52″N 44°05′38″E﻿ / ﻿47.581°N 44.094°E  \n",
       "85                Crashed  47°34′52″N 44°05′38″E﻿ / ﻿47.581°N 44.094°E  \n",
       "86                Crashed                                          NaN  \n",
       "87            Operational  69°22′01″S 32°20′53″E﻿ / ﻿69.367°S 32.348°E  \n",
       "88                    NaN                                          NaN  \n",
       "\n",
       "[89 rows x 8 columns]"
      ]
     },
     "metadata": {},
     "output_type": "display_data"
    }
   ],
   "source": [
    "df = pd.read_csv('./List of Artificial Objects on the Moon.csv')\n",
    "display(df)"
   ]
  },
  {
   "cell_type": "code",
   "execution_count": 44,
   "metadata": {},
   "outputs": [
    {
     "name": "stdout",
     "output_type": "stream",
     "text": [
      "Variável Categórica Não Ordenada:\n",
      "\n",
      "\n",
      "Column Artificial object\n"
     ]
    },
    {
     "data": {
      "text/plain": [
       "0                                        Luna 2\n",
       "1           Luna 2 Third stage of Vostok rocket\n",
       "2                                      Ranger 4\n",
       "3                                      Ranger 6\n",
       "4                                      Ranger 7\n",
       "                        ...                    \n",
       "84                           Hakuto-R Mission 1\n",
       "85                       Emirates Lunar Mission\n",
       "86                                      Luna 25\n",
       "87    Chandrayaan-3 Vikram lander Pragyan rover\n",
       "88                     Total estimated dry mass\n",
       "Name: Artificial object, Length: 89, dtype: object"
      ]
     },
     "metadata": {},
     "output_type": "display_data"
    },
    {
     "name": "stdout",
     "output_type": "stream",
     "text": [
      "\n",
      "\n",
      "Column Location\n"
     ]
    },
    {
     "data": {
      "text/plain": [
       "0                   29°06′N 0°00′E﻿ / ﻿29.1°N 0°E\n",
       "1                   29°06′N 0°00′E﻿ / ﻿29.1°N 0°E\n",
       "2             15°30′S 130°42′W﻿ / ﻿15.5°S 130.7°W\n",
       "3       9°21′29″N 21°28′48″E﻿ / ﻿9.358°N 21.480°E\n",
       "4             10°38′S 20°36′W﻿ / ﻿10.63°S 20.60°W\n",
       "                         ...                     \n",
       "84    47°34′52″N 44°05′38″E﻿ / ﻿47.581°N 44.094°E\n",
       "85    47°34′52″N 44°05′38″E﻿ / ﻿47.581°N 44.094°E\n",
       "86                                            NaN\n",
       "87    69°22′01″S 32°20′53″E﻿ / ﻿69.367°S 32.348°E\n",
       "88                                            NaN\n",
       "Name: Location, Length: 89, dtype: object"
      ]
     },
     "metadata": {},
     "output_type": "display_data"
    },
    {
     "name": "stdout",
     "output_type": "stream",
     "text": [
      "\n",
      "\n",
      "Column Country\n"
     ]
    },
    {
     "data": {
      "text/plain": [
       "0                 Soviet Union\n",
       "1                 Soviet Union\n",
       "2                United States\n",
       "3                United States\n",
       "4                United States\n",
       "                ...           \n",
       "84                       Japan\n",
       "85        United Arab Emirates\n",
       "86                      Russia\n",
       "87                       India\n",
       "88    Total estimated dry mass\n",
       "Name: Country, Length: 89, dtype: object"
      ]
     },
     "metadata": {},
     "output_type": "display_data"
    },
    {
     "name": "stdout",
     "output_type": "stream",
     "text": [
      "\n",
      "\n"
     ]
    }
   ],
   "source": [
    "print(\"Variável Categórica Não Ordenada:\")\n",
    "print(\"\\n\")\n",
    "print(\"Column Artificial object\")\n",
    "display(df['Artificial object'])\n",
    "print(\"\\n\")\n",
    "print(\"Column Location\")\n",
    "display(df['Location'])\n",
    "print(\"\\n\")\n",
    "print(\"Column Country\")\n",
    "display(df.Country)\n",
    "print(\"\\n\")"
   ]
  },
  {
   "cell_type": "code",
   "execution_count": 43,
   "metadata": {},
   "outputs": [
    {
     "name": "stdout",
     "output_type": "stream",
     "text": [
      "Variável Categórica Ordenada:\n",
      "\n",
      "\n",
      "Column Status\n"
     ]
    },
    {
     "data": {
      "text/plain": [
       "0     Intentionally crashed\n",
       "1     Intentionally crashed\n",
       "2     Intentionally crashed\n",
       "3     Intentionally crashed\n",
       "4     Intentionally crashed\n",
       "              ...          \n",
       "84                  Crashed\n",
       "85                  Crashed\n",
       "86                  Crashed\n",
       "87              Operational\n",
       "88                      NaN\n",
       "Name: Status, Length: 89, dtype: object"
      ]
     },
     "metadata": {},
     "output_type": "display_data"
    },
    {
     "name": "stdout",
     "output_type": "stream",
     "text": [
      "\n",
      "\n"
     ]
    }
   ],
   "source": [
    "print(\"Variável Categórica Ordenada:\")\n",
    "print(\"\\n\")\n",
    "print(\"Column Status\")\n",
    "display(df.Status)\n",
    "print(\"\\n\")"
   ]
  },
  {
   "cell_type": "code",
   "execution_count": 6,
   "metadata": {},
   "outputs": [
    {
     "name": "stdout",
     "output_type": "stream",
     "text": [
      "Variável Numérica Discreta:\n",
      "\n",
      "\n",
      "Column Year\n"
     ]
    },
    {
     "data": {
      "text/plain": [
       "0                         1959\n",
       "1                         1959\n",
       "2                         1962\n",
       "3                         1964\n",
       "4                         1964\n",
       "                ...           \n",
       "84                        2023\n",
       "85                        2023\n",
       "86                        2023\n",
       "87                        2023\n",
       "88    Total estimated dry mass\n",
       "Name: Year, Length: 89, dtype: object"
      ]
     },
     "metadata": {},
     "output_type": "display_data"
    },
    {
     "name": "stdout",
     "output_type": "stream",
     "text": [
      "\n",
      "\n"
     ]
    }
   ],
   "source": [
    "print(\"Variável Numérica Discreta:\")\n",
    "print(\"\\n\")\n",
    "print(\"Column Year\")\n",
    "display(df.Year)\n",
    "print(\"\\n\")\n"
   ]
  },
  {
   "cell_type": "code",
   "execution_count": 7,
   "metadata": {},
   "outputs": [
    {
     "name": "stdout",
     "output_type": "stream",
     "text": [
      "Variável Numérica Contínua:\n",
      "\n",
      "\n",
      "Column Mass (lb)\n"
     ]
    },
    {
     "data": {
      "text/plain": [
       "0        860\n",
       "1      20100\n",
       "2        730\n",
       "3        840\n",
       "4        805\n",
       "       ...  \n",
       "84       750\n",
       "85       750\n",
       "86      3860\n",
       "87      3863\n",
       "88    453791\n",
       "Name: Mass (lb), Length: 89, dtype: object"
      ]
     },
     "metadata": {},
     "output_type": "display_data"
    },
    {
     "name": "stdout",
     "output_type": "stream",
     "text": [
      "\n",
      "\n",
      "Column Mass (kg)\n"
     ]
    },
    {
     "data": {
      "text/plain": [
       "0        390\n",
       "1       9100\n",
       "2        331\n",
       "3        381\n",
       "4        365\n",
       "       ...  \n",
       "84       340\n",
       "85       340\n",
       "86      1750\n",
       "87      1752\n",
       "88    205868\n",
       "Name: Mass (kg), Length: 89, dtype: object"
      ]
     },
     "metadata": {},
     "output_type": "display_data"
    },
    {
     "name": "stdout",
     "output_type": "stream",
     "text": [
      "\n",
      "\n"
     ]
    }
   ],
   "source": [
    "print(\"Variável Numérica Contínua:\")\n",
    "print(\"\\n\")\n",
    "print(\"Column Mass (lb)\")\n",
    "display(df['Mass (lb)'])\n",
    "print(\"\\n\")\n",
    "print(\"Column Mass (kg)\")\n",
    "display(df['Mass (kg)'])\n",
    "print(\"\\n\")"
   ]
  },
  {
   "cell_type": "code",
   "execution_count": 37,
   "metadata": {},
   "outputs": [
    {
     "name": "stdout",
     "output_type": "stream",
     "text": [
      " tabela de frequência Absoluta:\n",
      "┌────┬───────────────────────────────┬───────────────────────┐\n",
      "│    │ Status da missão              │   Frequência Absoluta │\n",
      "├────┼───────────────────────────────┼───────────────────────┤\n",
      "│  0 │ Intentionally crashed         │                    22 │\n",
      "├────┼───────────────────────────────┼───────────────────────┤\n",
      "│  1 │ Landed                        │                    21 │\n",
      "├────┼───────────────────────────────┼───────────────────────┤\n",
      "│  2 │ Crashed                       │                    18 │\n",
      "├────┼───────────────────────────────┼───────────────────────┤\n",
      "│  3 │ Crashed (post-mission)        │                    15 │\n",
      "├────┼───────────────────────────────┼───────────────────────┤\n",
      "│  4 │ Operational                   │                     3 │\n",
      "├────┼───────────────────────────────┼───────────────────────┤\n",
      "│  5 │ Landed[b]                     │                     1 │\n",
      "├────┼───────────────────────────────┼───────────────────────┤\n",
      "│  6 │ Crashed (post mission)        │                     1 │\n",
      "├────┼───────────────────────────────┼───────────────────────┤\n",
      "│  7 │ Likely Crashed (post-mission) │                     1 │\n",
      "├────┼───────────────────────────────┼───────────────────────┤\n",
      "│  8 │ Crashed into moon or in Orbit │                     1 │\n",
      "├────┼───────────────────────────────┼───────────────────────┤\n",
      "│  9 │ Crashed (not confirmed)       │                     1 │\n",
      "├────┼───────────────────────────────┼───────────────────────┤\n",
      "│ 10 │ Landed[87]                    │                     1 │\n",
      "├────┼───────────────────────────────┼───────────────────────┤\n",
      "│ 11 │ Crashed[92][93]               │                     1 │\n",
      "├────┼───────────────────────────────┼───────────────────────┤\n",
      "│ 12 │ Intentionally crashed[94]     │                     1 │\n",
      "├────┼───────────────────────────────┼───────────────────────┤\n",
      "│ 13 │ Crashed[96]                   │                     1 │\n",
      "└────┴───────────────────────────────┴───────────────────────┘\n"
     ]
    }
   ],
   "source": [
    "from tabulate import tabulate\n",
    "print(' tabela de frequência Absoluta:')\n",
    "tabela_de_freq_Abs = df.Status.value_counts().reset_index()\n",
    "tabela_de_freq_Abs.columns = ['Status da missão', 'Frequência Absoluta']\n",
    "print(tabulate(tabela_de_freq_Abs, headers='keys', tablefmt='simple_grid'))"
   ]
  },
  {
   "cell_type": "code",
   "execution_count": 9,
   "metadata": {},
   "outputs": [
    {
     "name": "stdout",
     "output_type": "stream",
     "text": [
      "Grafico de Status\n"
     ]
    },
    {
     "data": {
      "text/plain": [
       "<Axes: xlabel='Status'>"
      ]
     },
     "execution_count": 9,
     "metadata": {},
     "output_type": "execute_result"
    },
    {
     "data": {
      "image/png": "[encoded data removed]",
      "text/plain": [
       "<Figure size 640x480 with 1 Axes>"
      ]
     },
     "metadata": {},
     "output_type": "display_data"
    }
   ],
   "source": [
    "print('Grafico de Status')\n",
    "df.Status.value_counts().plot.bar()"
   ]
  },
  {
   "cell_type": "code",
   "execution_count": 10,
   "metadata": {},
   "outputs": [
    {
     "name": "stdout",
     "output_type": "stream",
     "text": [
      "Grafico de Países\n"
     ]
    },
    {
     "data": {
      "text/plain": [
       "<Axes: ylabel='count'>"
      ]
     },
     "execution_count": 10,
     "metadata": {},
     "output_type": "execute_result"
    },
    {
     "data": {
      "image/png": "[encoded data removed]",
      "text/plain": [
       "<Figure size 640x480 with 1 Axes>"
      ]
     },
     "metadata": {},
     "output_type": "display_data"
    }
   ],
   "source": [
    "print('Grafico de Países')\n",
    "df.Country.value_counts().plot.pie()"
   ]
  },
  {
   "cell_type": "code",
   "execution_count": 11,
   "metadata": {},
   "outputs": [],
   "source": [
    "from matplotlib import pyplot as plt"
   ]
  },
  {
   "cell_type": "code",
   "execution_count": 12,
   "metadata": {},
   "outputs": [
    {
     "data": {
      "text/plain": [
       "[<matplotlib.lines.Line2D at 0x1e0c9decad0>]"
      ]
     },
     "execution_count": 12,
     "metadata": {},
     "output_type": "execute_result"
    },
    {
     "data": {
      "image/png": "[encoded data removed]",
      "text/plain": [
       "<Figure size 640x480 with 1 Axes>"
      ]
     },
     "metadata": {},
     "output_type": "display_data"
    }
   ],
   "source": [
    "#(x, y) = (df.Year.tolist(), df[\"Unnamed: 0\"].tolist())\n",
    "(x, y) = ([1959, 1969, 1979, 1989, 1999, 2009, 2019, 2023], [2, 34, 62, 62, 62, 67, 78, 88])\n",
    "plt.plot(x,y)"
   ]
  }
 ],
 "metadata": {
  "kernelspec": {
   "display_name": "Python 3",
   "language": "python",
   "name": "python3"
  },
  "language_info": {
   "codemirror_mode": {
    "name": "ipython",
    "version": 3
   },
   "file_extension": ".py",
   "mimetype": "text/x-python",
   "name": "python",
   "nbconvert_exporter": "python",
   "pygments_lexer": "ipython3",
   "version": "3.11.5"
  },
  "orig_nbformat": 4
 },
 "nbformat": 4,
 "nbformat_minor": 2
}
